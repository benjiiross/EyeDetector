{
 "cells": [
  {
   "cell_type": "code",
   "execution_count": 7,
   "metadata": {},
   "outputs": [],
   "source": [
    "from azure.cognitiveservices.vision.customvision.training import (\n",
    "    CustomVisionTrainingClient,\n",
    ")\n",
    "from azure.cognitiveservices.vision.customvision.prediction import (\n",
    "    CustomVisionPredictionClient,\n",
    ")\n",
    "from azure.cognitiveservices.vision.customvision.training.models import (\n",
    "    ImageFileCreateBatch,\n",
    "    ImageFileCreateEntry,\n",
    "    Region,\n",
    ")\n",
    "from msrest.authentication import ApiKeyCredentials\n",
    "import os, time, uuid\n",
    "import pandas as pd\n",
    "\n",
    "from dotenv import load_dotenv"
   ]
  },
  {
   "cell_type": "code",
   "execution_count": 8,
   "metadata": {},
   "outputs": [
    {
     "name": "stdout",
     "output_type": "stream",
     "text": [
      "Loading environment variables...\n",
      "Authenticating...\n",
      "Importing project...\n"
     ]
    }
   ],
   "source": [
    "print(\"Loading environment variables...\")\n",
    "load_dotenv()\n",
    "ENDPOINT = os.environ[\"VISION_TRAINING_ENDPOINT\"]\n",
    "TRAINING_KEY = os.environ[\"VISION_TRAINING_KEY\"]\n",
    "PREDICTION_KEY = os.environ[\"VISION_PREDICTION_KEY\"]\n",
    "PREDICTION_RESOURCE_ID = os.environ[\"VISION_PREDICTION_RESOURCE_ID\"]\n",
    "PROJECT_ID = os.environ[\"VISION_PROJECT_ID\"]\n",
    "\n",
    "\n",
    "print(\"Authenticating...\")\n",
    "credentials = ApiKeyCredentials(in_headers={\"Training-key\": TRAINING_KEY})\n",
    "trainer = CustomVisionTrainingClient(ENDPOINT, credentials)\n",
    "prediction_credentials = ApiKeyCredentials(\n",
    "    in_headers={\"Prediction-key\": PREDICTION_KEY}\n",
    ")\n",
    "publish_iteration_name = \"classifyModel\"\n",
    "\n",
    "\n",
    "print(\"Importing project...\")\n",
    "project_name = uuid.uuid4()\n",
    "project = trainer.get_project(project_id=PROJECT_ID)"
   ]
  },
  {
   "cell_type": "code",
   "execution_count": 9,
   "metadata": {},
   "outputs": [
    {
     "name": "stdout",
     "output_type": "stream",
     "text": [
      "Loading training data...\n"
     ]
    }
   ],
   "source": [
    "print(\"Loading training data...\")\n",
    "name: str = \"RFMiD_Training_Labels\"\n",
    "df = pd.read_csv(f\"{name}.csv\", index_col=0)"
   ]
  },
  {
   "cell_type": "code",
   "execution_count": null,
   "metadata": {},
   "outputs": [],
   "source": [
    "print(\"Deleting existing tags...\")\n",
    "tags = trainer.get_tags(project.id)\n",
    "for tag in tags:\n",
    "    trainer.delete_tag(project.id, tag.id)\n",
    "    print(f\"Deleted tag {tag.name}\")\n",
    "    time.sleep(0.25)\n",
    "\n",
    "print(\"Creating tags...\")\n",
    "Disease_Risk_tag = trainer.create_tag(project.id, \"Disease_Risk\")\n",
    "DR_tag = trainer.create_tag(project.id, \"DR\")\n",
    "ARMD_tag = trainer.create_tag(project.id, \"ARMD\")\n",
    "MH_tag = trainer.create_tag(project.id, \"MH\")\n",
    "DN_tag = trainer.create_tag(project.id, \"DN\")\n",
    "MYA_tag = trainer.create_tag(project.id, \"MYA\")\n",
    "BRVO_tag = trainer.create_tag(project.id, \"BRVO\")\n",
    "TSLN_tag = trainer.create_tag(project.id, \"TSLN\")\n",
    "ERM_tag = trainer.create_tag(project.id, \"ERM\")\n",
    "time.sleep(1)\n",
    "\n",
    "LS_tag = trainer.create_tag(project.id, \"LS\")\n",
    "MS_tag = trainer.create_tag(project.id, \"MS\")\n",
    "CSR_tag = trainer.create_tag(project.id, \"CSR\")\n",
    "ODC_tag = trainer.create_tag(project.id, \"ODC\")\n",
    "CRVO_tag = trainer.create_tag(project.id, \"CRVO\")\n",
    "TV_tag = trainer.create_tag(project.id, \"TV\")\n",
    "AH_tag = trainer.create_tag(project.id, \"AH\")\n",
    "time.sleep(1)\n",
    "\n",
    "ODP_tag = trainer.create_tag(project.id, \"ODP\")\n",
    "ODE_tag = trainer.create_tag(project.id, \"ODE\")\n",
    "ST_tag = trainer.create_tag(project.id, \"ST\")\n",
    "AION_tag = trainer.create_tag(project.id, \"AION\")\n",
    "PT_tag = trainer.create_tag(project.id, \"PT\")\n",
    "RT_tag = trainer.create_tag(project.id, \"RT\")\n",
    "RS_tag = trainer.create_tag(project.id, \"RS\")\n",
    "time.sleep(1)\n",
    "\n",
    "CRS_tag = trainer.create_tag(project.id, \"CRS\")\n",
    "EDN_tag = trainer.create_tag(project.id, \"EDN\")\n",
    "RPEC_tag = trainer.create_tag(project.id, \"RPEC\")\n",
    "MHL_tag = trainer.create_tag(project.id, \"MHL\")\n",
    "RP_tag = trainer.create_tag(project.id, \"RP\")\n",
    "CWS_tag = trainer.create_tag(project.id, \"CWS\")\n",
    "CB_tag = trainer.create_tag(project.id, \"CB\")\n",
    "time.sleep(1)\n",
    "\n",
    "ODPM_tag = trainer.create_tag(project.id, \"ODPM\")\n",
    "PRH_tag = trainer.create_tag(project.id, \"PRH\")\n",
    "MNF_tag = trainer.create_tag(project.id, \"MNF\")\n",
    "HR_tag = trainer.create_tag(project.id, \"HR\")\n",
    "CRAO_tag = trainer.create_tag(project.id, \"CRAO\")\n",
    "TD_tag = trainer.create_tag(project.id, \"TD\")\n",
    "CME_tag = trainer.create_tag(project.id, \"CME\")\n",
    "time.sleep(1)\n",
    "\n",
    "PTCR_tag = trainer.create_tag(project.id, \"PTCR\")\n",
    "CF_tag = trainer.create_tag(project.id, \"CF\")\n",
    "VH_tag = trainer.create_tag(project.id, \"VH\")\n",
    "MCA_tag = trainer.create_tag(project.id, \"MCA\")\n",
    "VS_tag = trainer.create_tag(project.id, \"VS\")\n",
    "BRAO_tag = trainer.create_tag(project.id, \"BRAO\")\n",
    "PLQ_tag = trainer.create_tag(project.id, \"PLQ\")\n",
    "time.sleep(1)\n",
    "\n",
    "HPED_tag = trainer.create_tag(project.id, \"HPED\")\n",
    "CL_tag = trainer.create_tag(project.id, \"CL\")"
   ]
  },
  {
   "cell_type": "code",
   "execution_count": null,
   "metadata": {},
   "outputs": [],
   "source": []
  },
  {
   "cell_type": "code",
   "execution_count": null,
   "metadata": {},
   "outputs": [],
   "source": []
  }
 ],
 "metadata": {
  "kernelspec": {
   "display_name": "ml3000",
   "language": "python",
   "name": "python3"
  },
  "language_info": {
   "codemirror_mode": {
    "name": "ipython",
    "version": 3
   },
   "file_extension": ".py",
   "mimetype": "text/x-python",
   "name": "python",
   "nbconvert_exporter": "python",
   "pygments_lexer": "ipython3",
   "version": "3.11.5"
  }
 },
 "nbformat": 4,
 "nbformat_minor": 2
}
